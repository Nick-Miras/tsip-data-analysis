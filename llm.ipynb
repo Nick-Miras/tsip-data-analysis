{
 "cells": [
  {
   "metadata": {},
   "cell_type": "markdown",
   "source": [
    "# Data Analysis with LLM\n",
    "This is an attempt to use an LLM to analyze text data from the Toxic Sites Identification Program (TSIP). The data is a collection of documents that describe the background of the site and its health effects on the surrounding population. The goal is to use the LLM to identify the most important words in the text data and to use these words to compare site 1888 to other sites of the same key pollutant."
   ],
   "id": "1133d9054dc65d09"
  },
  {
   "metadata": {
    "collapsed": true,
    "ExecuteTime": {
     "end_time": "2024-12-19T15:10:14.384461Z",
     "start_time": "2024-12-19T15:10:12.651418Z"
    }
   },
   "cell_type": "code",
   "source": [
    "import numpy as np\n",
    "import pandas as pd\n",
    "import matplotlib.pyplot as plt\n",
    "import requests\n",
    "from typing import Optional, Union\n",
    "import json"
   ],
   "id": "initial_id",
   "outputs": [],
   "execution_count": 2
  },
  {
   "metadata": {},
   "cell_type": "markdown",
   "source": "### Data Collection",
   "id": "df10a9f5633a2970"
  },
  {
   "metadata": {
    "ExecuteTime": {
     "end_time": "2024-12-19T15:57:52.913446Z",
     "start_time": "2024-12-19T15:57:52.904549Z"
    }
   },
   "cell_type": "code",
   "source": [
    "def get_data_from(site_id: int) -> Optional[dict]:\n",
    "    url = f\"https://www.contaminatedsites.org/api/v1/site/{site_id}\"\n",
    "    response = requests.get(url)\n",
    "    if response.status_code == 200:\n",
    "        response_dict = response.json()['response']\n",
    "        return dict(response_dict)\n",
    "    print(f\"Request failed with status code: {response.status_code} | Site id: {site_id}\")\n",
    "    return None\n",
    "\n",
    "def return_lst_of_sites(file_path: str) -> list:\n",
    "    lst_of_sites = []\n",
    "    with open(file_path, 'r') as file:\n",
    "        for line in file:\n",
    "            lst_of_sites.append(int(line.strip()))\n",
    "    return lst_of_sites\n",
    "\n",
    "def get_site_data_from(file_path: str) -> pd.DataFrame:\n",
    "    with open(file_path, 'r') as file:\n",
    "        return pd.DataFrame(json.load(file))\n",
    "\n",
    "def compile_text(dataframe: pd.DataFrame) -> str:\n",
    "    compiled_text = ''\n",
    "    for site in dataframe.to_dict('records'):\n",
    "        compiled_text += site['name'] + '\\n' + site['description'] + '\\n' + site['health_impact'] + '\\n\\n'\n",
    "    return compiled_text\n",
    "\n",
    "def store_data(data: Union[dict, list[dict]], file_path: str):\n",
    "    with open(file_path, 'w') as json_file:\n",
    "        json.dump(data, json_file, indent=4)"
   ],
   "id": "54fe9ff9de1c24ed",
   "outputs": [],
   "execution_count": 24
  },
  {
   "metadata": {
    "ExecuteTime": {
     "end_time": "2024-12-07T14:51:43.606222Z",
     "start_time": "2024-12-07T14:51:42.433694Z"
    }
   },
   "cell_type": "code",
   "outputs": [
    {
     "data": {
      "text/plain": [
       "int"
      ]
     },
     "execution_count": 11,
     "metadata": {},
     "output_type": "execute_result"
    }
   ],
   "execution_count": 11,
   "source": [
    "# get data for site 1888\n",
    "site_1888 = get_data_from(1888)\n",
    "store_data(site_1888, 'data/site_1888.json')"
   ],
   "id": "5da0adce86962f3b"
  },
  {
   "metadata": {
    "ExecuteTime": {
     "end_time": "2024-12-07T14:56:35.657841Z",
     "start_time": "2024-12-07T14:55:26.609488Z"
    }
   },
   "cell_type": "code",
   "outputs": [],
   "execution_count": 15,
   "source": [
    "# get list of sites from data/sites_of_interest/high_bsi.txt\n",
    "sites_high_bsi = return_lst_of_sites('data/sites_of_interest/high_bsi.txt')\n",
    "sites_data = []\n",
    "for site in sites_high_bsi:\n",
    "    site_data = get_data_from(site)\n",
    "    sites_data.append(site_data)\n",
    "store_data(sites_data, 'data/tsip_deep_data.json')"
   ],
   "id": "baf77f884b9bec24"
  },
  {
   "metadata": {
    "ExecuteTime": {
     "end_time": "2024-12-07T15:07:10.328968Z",
     "start_time": "2024-12-07T15:06:56.699246Z"
    }
   },
   "cell_type": "code",
   "outputs": [],
   "execution_count": 29,
   "source": [
    "sites_kp_12_high_bsi = return_lst_of_sites('data/sites_of_interest/kp_12_high_bsi.txt')\n",
    "sites_data_kp_12 = []\n",
    "for site in sites_kp_12_high_bsi:\n",
    "    site_data = get_data_from(site)\n",
    "    sites_data_kp_12.append(site_data)\n",
    "store_data(sites_data_kp_12, 'data/tsip_deep_data_kp_12.json')"
   ],
   "id": "4d02e413c5a83b8c"
  },
  {
   "metadata": {},
   "cell_type": "markdown",
   "source": "Storing the health effects data in a text file for each kp_12 site.",
   "id": "40224abd32be18df"
  },
  {
   "metadata": {
    "ExecuteTime": {
     "end_time": "2024-12-19T15:57:22.719792Z",
     "start_time": "2024-12-19T15:57:22.701052Z"
    }
   },
   "cell_type": "code",
   "source": [
    "path = 'data/tsip_deep_data_kp_12.json'\n",
    "df = get_site_data_from(path)\n",
    "for site in df.to_dict('records'):\n",
    "    site_id = site['id']\n",
    "    title = 'Site Title: ' + site['name']\n",
    "    description = 'Site Description: ' + site['description']\n",
    "    health_effects = 'Health Impacts: ' + site['health_impact']\n",
    "    with open(f'data/text/health_impact/raw/{site_id}.txt', 'w') as text_file:\n",
    "        text_file.write(title + '\\n' + description + '\\n' + health_effects)"
   ],
   "id": "691bbb96b9819eb",
   "outputs": [],
   "execution_count": 22
  },
  {
   "metadata": {},
   "cell_type": "markdown",
   "source": "Compile all the health effects data into one text file.",
   "id": "83ae36d9d8da3d71"
  },
  {
   "metadata": {
    "ExecuteTime": {
     "end_time": "2024-12-19T15:57:56.112235Z",
     "start_time": "2024-12-19T15:57:56.103854Z"
    }
   },
   "cell_type": "code",
   "source": [
    "with open('data/text/health_impact/compiled.txt', 'w') as compiled_file:\n",
    "    compiled_file.write(compile_text(df))"
   ],
   "id": "2f73d85564463778",
   "outputs": [],
   "execution_count": 25
  },
  {
   "metadata": {},
   "cell_type": "markdown",
   "source": "### Data Preprocessing",
   "id": "471a80bffac5b427"
  },
  {
   "metadata": {},
   "cell_type": "code",
   "outputs": [],
   "execution_count": null,
   "source": "",
   "id": "b8e4d8be6fde6367"
  },
  {
   "metadata": {},
   "cell_type": "markdown",
   "source": "# Conclusion",
   "id": "b2beb6d09e80d935"
  }
 ],
 "metadata": {
  "kernelspec": {
   "display_name": "Python 3",
   "language": "python",
   "name": "python3"
  },
  "language_info": {
   "codemirror_mode": {
    "name": "ipython",
    "version": 2
   },
   "file_extension": ".py",
   "mimetype": "text/x-python",
   "name": "python",
   "nbconvert_exporter": "python",
   "pygments_lexer": "ipython2",
   "version": "2.7.6"
  }
 },
 "nbformat": 4,
 "nbformat_minor": 5
}
